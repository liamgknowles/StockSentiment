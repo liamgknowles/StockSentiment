{
 "cells": [
  {
   "cell_type": "code",
   "execution_count": 1,
   "metadata": {},
   "outputs": [],
   "source": [
    "import requests as re\n",
    "import pandas as pd\n",
    "import time"
   ]
  },
  {
   "cell_type": "code",
   "execution_count": 2,
   "metadata": {},
   "outputs": [],
   "source": [
    "def archives(year, month, key = '2E0ntEO9AFP3tUkfnbdyhs4h5Y2AHc0x'):\n",
    "    ''' extract archive response for a given year and month from NYT from:\n",
    "        https://api.nytimes.com/svc/archive/v1/\n",
    "    \n",
    "    Args: \n",
    "        year (int): integer representing year\n",
    "        month (int): integer representing months from 1-12\n",
    "        key (str): API access key\n",
    "    \n",
    "    Returns: \n",
    "        response.json(): a json response for all articles in a given year and month    \n",
    "    '''\n",
    "    link = f\"https://api.nytimes.com/svc/archive/v1/{year}/{month}.json?api-key={key}\"\n",
    "    headers = {\"Accept\": \"application/json\"}\n",
    "    response = re.get(link, headers=headers)    \n",
    "    \n",
    "    # NYT API requires sleeping for 6 seconds between each call\n",
    "    time.sleep(6)\n",
    "    \n",
    "    return response.json()"
   ]
  },
  {
   "cell_type": "code",
   "execution_count": 3,
   "metadata": {},
   "outputs": [],
   "source": [
    "def news_df(years, months):\n",
    "    ''' Extract business news headlines, abstract and date for a given year and month\n",
    "    \n",
    "    Args: \n",
    "        years (list): list of years used for this project 2015-2019\n",
    "        months (list): list of months from 1-12\n",
    "    \n",
    "    Returns: \n",
    "        news_df (pd.DataFrame): dataframe with business news headlines, abstract and dates from 2015-2019 \n",
    "    '''\n",
    "    news_list = []\n",
    "    \n",
    "    for year in years:\n",
    "        for month in months:\n",
    "            archive = archives(year, month)\n",
    "\n",
    "            for article in archive['response']['docs']:\n",
    "                if (article['section_name'] == 'Business Day'):\n",
    "                    news_list.append({'headline':article['headline']['main'],\n",
    "                                      'abstract':article['abstract'],\n",
    "                                      'date': article['pub_date']})\n",
    "\n",
    "    news_df = pd.DataFrame(news_list)    \n",
    "\n",
    "    return news_df"
   ]
  },
  {
   "cell_type": "code",
   "execution_count": 4,
   "metadata": {},
   "outputs": [],
   "source": [
    "months = list(range(1,13))\n",
    "years = list(range(2015,2020))\n",
    "df_news = news_df(years, months)"
   ]
  },
  {
   "cell_type": "code",
   "execution_count": 5,
   "metadata": {},
   "outputs": [
    {
     "data": {
      "text/html": [
       "<div>\n",
       "<style scoped>\n",
       "    .dataframe tbody tr th:only-of-type {\n",
       "        vertical-align: middle;\n",
       "    }\n",
       "\n",
       "    .dataframe tbody tr th {\n",
       "        vertical-align: top;\n",
       "    }\n",
       "\n",
       "    .dataframe thead th {\n",
       "        text-align: right;\n",
       "    }\n",
       "</style>\n",
       "<table border=\"1\" class=\"dataframe\">\n",
       "  <thead>\n",
       "    <tr style=\"text-align: right;\">\n",
       "      <th></th>\n",
       "      <th>headline</th>\n",
       "      <th>abstract</th>\n",
       "      <th>date</th>\n",
       "    </tr>\n",
       "  </thead>\n",
       "  <tbody>\n",
       "    <tr>\n",
       "      <th>0</th>\n",
       "      <td>A Guide to Minimum Wage Increases at the State...</td>\n",
       "      <td>By Jan. 1, 29 states and the District of Colum...</td>\n",
       "      <td>2015-01-01T01:45:03+0000</td>\n",
       "    </tr>\n",
       "    <tr>\n",
       "      <th>1</th>\n",
       "      <td>States’ Minimum Wages Rise, Helping Millions o...</td>\n",
       "      <td>Minimum wage increases go into effect in 20 st...</td>\n",
       "      <td>2015-01-01T01:45:10+0000</td>\n",
       "    </tr>\n",
       "    <tr>\n",
       "      <th>2</th>\n",
       "      <td>Government Spending, Edging Up, Is a Stimulus</td>\n",
       "      <td>State and local governments are spending on pr...</td>\n",
       "      <td>2015-01-01T18:16:34+0000</td>\n",
       "    </tr>\n",
       "    <tr>\n",
       "      <th>3</th>\n",
       "      <td>Digital Tax Increase to Take Effect in Europe</td>\n",
       "      <td>New rules are coming into force for services l...</td>\n",
       "      <td>2015-01-01T18:22:47+0000</td>\n",
       "    </tr>\n",
       "    <tr>\n",
       "      <th>4</th>\n",
       "      <td>By ‘Editing’ Plant Genes, Companies Avoid Regu...</td>\n",
       "      <td>Critics of bioengineered crops are concerned t...</td>\n",
       "      <td>2015-01-01T23:02:04+0000</td>\n",
       "    </tr>\n",
       "  </tbody>\n",
       "</table>\n",
       "</div>"
      ],
      "text/plain": [
       "                                            headline  \\\n",
       "0  A Guide to Minimum Wage Increases at the State...   \n",
       "1  States’ Minimum Wages Rise, Helping Millions o...   \n",
       "2     Government Spending, Edging Up, Is a Stimulus    \n",
       "3      Digital Tax Increase to Take Effect in Europe   \n",
       "4  By ‘Editing’ Plant Genes, Companies Avoid Regu...   \n",
       "\n",
       "                                            abstract                      date  \n",
       "0  By Jan. 1, 29 states and the District of Colum...  2015-01-01T01:45:03+0000  \n",
       "1  Minimum wage increases go into effect in 20 st...  2015-01-01T01:45:10+0000  \n",
       "2  State and local governments are spending on pr...  2015-01-01T18:16:34+0000  \n",
       "3  New rules are coming into force for services l...  2015-01-01T18:22:47+0000  \n",
       "4  Critics of bioengineered crops are concerned t...  2015-01-01T23:02:04+0000  "
      ]
     },
     "execution_count": 5,
     "metadata": {},
     "output_type": "execute_result"
    }
   ],
   "source": [
    "df_news.head()"
   ]
  },
  {
   "cell_type": "code",
   "execution_count": 7,
   "metadata": {},
   "outputs": [],
   "source": [
    "df_news.to_csv('news.csv')"
   ]
  }
 ],
 "metadata": {
  "kernelspec": {
   "display_name": "Python 3",
   "language": "python",
   "name": "python3"
  },
  "language_info": {
   "codemirror_mode": {
    "name": "ipython",
    "version": 3
   },
   "file_extension": ".py",
   "mimetype": "text/x-python",
   "name": "python",
   "nbconvert_exporter": "python",
   "pygments_lexer": "ipython3",
   "version": "3.8.5"
  }
 },
 "nbformat": 4,
 "nbformat_minor": 4
}
