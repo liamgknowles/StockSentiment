{
 "cells": [
  {
   "cell_type": "code",
   "execution_count": 1,
   "metadata": {},
   "outputs": [
    {
     "name": "stdout",
     "output_type": "stream",
     "text": [
      "1.8471115271480265\n"
     ]
    }
   ],
   "source": [
    "import pandas\n",
    "\n",
    "def value(dataPath:str, date:str) -> float:\n",
    "    '''\n",
    "    :param dataPath:  the path for csv data\n",
    "    :param date: the date you give\n",
    "    :return: (adj close for the date/adj close for the before date)-1\n",
    "    '''\n",
    "    df = pandas.read_csv(dataPath,    #use pandas to read the file\n",
    "                         header=0)\n",
    "    allAdjClose = df['Adj Close']  #get all Adj close\n",
    "    allDate = df['Date']     #get all date\n",
    "\n",
    "    index = 0   #the index of date in the array\n",
    "    for d in allDate:   #find the index value\n",
    "        if d.replace('-', '.') == date:\n",
    "            break\n",
    "        else:\n",
    "            index += 1\n",
    "\n",
    "    dateAdjClose = allAdjClose[index]\n",
    "    if index != 0:\n",
    "        beforeAdjClose = allAdjClose[index - 1]\n",
    "    else:\n",
    "        beforeAdjClose = 1\n",
    "\n",
    "    result = ((dateAdjClose/beforeAdjClose)-1)*100     #compute the result of what we want to get\n",
    "\n",
    "    return result\n",
    "\n",
    "if __name__ == '__main__':\n",
    "    dataPath = 'CMCSA.csv'\n",
    "    print(value(dataPath, '2020.07.01'))"
   ]
  },
  {
   "cell_type": "code",
   "execution_count": null,
   "metadata": {},
   "outputs": [],
   "source": []
  }
 ],
 "metadata": {
  "kernelspec": {
   "display_name": "Python 3",
   "language": "python",
   "name": "python3"
  },
  "language_info": {
   "codemirror_mode": {
    "name": "ipython",
    "version": 3
   },
   "file_extension": ".py",
   "mimetype": "text/x-python",
   "name": "python",
   "nbconvert_exporter": "python",
   "pygments_lexer": "ipython3",
   "version": "3.8.3"
  }
 },
 "nbformat": 4,
 "nbformat_minor": 4
}
